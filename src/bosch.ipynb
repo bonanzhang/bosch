{
 "cells": [
  {
   "cell_type": "markdown",
   "metadata": {},
   "source": [
    "This is for a kaggle competition: https://www.kaggle.com/c/bosch-production-line-performance"
   ]
  },
  {
   "cell_type": "code",
   "execution_count": null,
   "metadata": {
    "collapsed": false
   },
   "outputs": [],
   "source": [
    "import xgboost\n",
    "import pandas\n",
    "import time\n",
    "import io\n",
    "import zipfile\n",
    "import numpy\n",
    "print('imports complete')"
   ]
  },
  {
   "cell_type": "code",
   "execution_count": null,
   "metadata": {
    "collapsed": false
   },
   "outputs": [],
   "source": [
    "# FYI: This takes about a minute and a half\n",
    "def load_and_unzip(filename):\n",
    "    print('loading and unzipping large training data file %s' % (filename))\n",
    "    t0 = time.time()\n",
    "    df = pandas.read_csv(filename, compression='zip')\n",
    "    t1 = time.time()\n",
    "    print('completed in %.3f seconds' % (t1-t0))\n",
    "    return df\n",
    "\n",
    "#train_numeric_filename = '../resources/train_numeric.csv.zip'\n",
    "#df_explore = load_and_unzip(train_numeric_filename)\n",
    "#test_numeric_filename = '../resources/test_numeric.csv.zip'\n",
    "#df_test = load_and_unzip(test_numeric_filename)"
   ]
  },
  {
   "cell_type": "markdown",
   "metadata": {},
   "source": [
    "Fill in the empty data with 0. get the mean and std of the entire training dataset, minus the id colum and the dependent variable column"
   ]
  },
  {
   "cell_type": "code",
   "execution_count": null,
   "metadata": {
    "collapsed": false
   },
   "outputs": [],
   "source": [
    "df_explore = pandas.read_csv('../resources/split_train_numeric_a.csv')\n",
    "df_explore.fillna(0,inplace=True)\n",
    "df_explore_meta = df_explore[df_explore.keys()[1:-1]].describe()\n",
    "df_explore_meta"
   ]
  },
  {
   "cell_type": "code",
   "execution_count": null,
   "metadata": {
    "collapsed": true
   },
   "outputs": [],
   "source": [
    "def load_training_DMatrix(filename):\n",
    "    arr = numpy.genfromtxt(filename, delimiter=',', skip_header=True, filling_values=0)\n",
    "    return xgboost.DMatrix(arr[:,1:-1], label=arr[:,-1])\n",
    "# load the testing file, without labels\n",
    "def load_testing_DMatrix(filename):\n",
    "    arr = numpy.genfromtxt(filename, delimiter=',', skip_header=True, filling_values=0)\n",
    "    return arr[:,0], xgboost.DMatrix(arr[:,1:])"
   ]
  },
  {
   "cell_type": "code",
   "execution_count": null,
   "metadata": {
    "collapsed": false
   },
   "outputs": [],
   "source": [
    "dtrain = load_training_DMatrix('../resources/split_train_numeric_a.csv')\n",
    "param = {'max_depth':2, 'eta':1, 'slient':1, 'objective':'binary:logistic'}\n",
    "num_round = 2\n",
    "bst = xgboost.train(param, dtrain, num_round)"
   ]
  },
  {
   "cell_type": "code",
   "execution_count": null,
   "metadata": {
    "collapsed": false
   },
   "outputs": [],
   "source": [
    "ids, dtest = load_testing_DMatrix('../resources/split_test_numeric_a.csv')"
   ]
  },
  {
   "cell_type": "code",
   "execution_count": null,
   "metadata": {
    "collapsed": true
   },
   "outputs": [],
   "source": [
    "pred = bst.predict(dtest)"
   ]
  },
  {
   "cell_type": "code",
   "execution_count": null,
   "metadata": {
    "collapsed": false
   },
   "outputs": [],
   "source": [
    "s= 0\n",
    "for i, p in enumerate(pred):\n",
    "    if p > 0.5:\n",
    "        s = s + 1\n",
    "print('%d,%d' %(ids[i], s))"
   ]
  }
 ],
 "metadata": {
  "anaconda-cloud": {},
  "kernelspec": {
   "display_name": "Python [Root]",
   "language": "python",
   "name": "Python [Root]"
  },
  "language_info": {
   "codemirror_mode": {
    "name": "ipython",
    "version": 3
   },
   "file_extension": ".py",
   "mimetype": "text/x-python",
   "name": "python",
   "nbconvert_exporter": "python",
   "pygments_lexer": "ipython3",
   "version": "3.5.2"
  }
 },
 "nbformat": 4,
 "nbformat_minor": 0
}
