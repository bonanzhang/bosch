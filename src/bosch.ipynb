{
 "cells": [
  {
   "cell_type": "markdown",
   "metadata": {},
   "source": [
    "This is for a kaggle competition: https://www.kaggle.com/c/bosch-production-line-performance"
   ]
  },
  {
   "cell_type": "code",
   "execution_count": null,
   "metadata": {
    "collapsed": false
   },
   "outputs": [],
   "source": [
    "import xgboost\n",
    "import pandas\n",
    "import time\n",
    "import io\n",
    "import zipfile\n",
    "print('imports complete')"
   ]
  },
  {
   "cell_type": "code",
   "execution_count": null,
   "metadata": {
    "collapsed": false
   },
   "outputs": [],
   "source": [
    "# FYI: This takes about a minute and a half\n",
    "def load_and_unzip(filename):\n",
    "    print('loading and unzipping large training data file %s' % (filename))\n",
    "    t0 = time.time()\n",
    "    df = pandas.read_csv(filename, compression='zip')\n",
    "    t1 = time.time()\n",
    "    print('completed in %.3f seconds' % (t1-t0))\n",
    "    return df\n",
    "\n",
    "train_numeric_filename = '../resources/train_numeric.csv.zip'\n",
    "df_train = load_and_unzip(train_numeric_filename)"
   ]
  },
  {
   "cell_type": "markdown",
   "metadata": {},
   "source": [
    "Fill in the empty data with 0. get the mean and std of the entire training dataset, minus the id colum and the dependent variable column"
   ]
  },
  {
   "cell_type": "markdown",
   "metadata": {},
   "source": [
    "df_train.fillna(0,inplace=True)\n",
    "\n",
    "df_train_meta = df_train[df_train.keys()[1:-1]].describe()"
   ]
  },
  {
   "cell_type": "code",
   "execution_count": null,
   "metadata": {
    "collapsed": false
   },
   "outputs": [],
   "source": [
    "df_train_meta"
   ]
  },
  {
   "cell_type": "code",
   "execution_count": null,
   "metadata": {
    "collapsed": true
   },
   "outputs": [],
   "source": [
    "test_numeric_filename = '../resources/test_numeric.csv.zip'\n",
    "df_test = load_and_unzip(test_numeric_filename)"
   ]
  }
 ],
 "metadata": {
  "anaconda-cloud": {},
  "kernelspec": {
   "display_name": "Python [Root]",
   "language": "python",
   "name": "Python [Root]"
  },
  "language_info": {
   "codemirror_mode": {
    "name": "ipython",
    "version": 3
   },
   "file_extension": ".py",
   "mimetype": "text/x-python",
   "name": "python",
   "nbconvert_exporter": "python",
   "pygments_lexer": "ipython3",
   "version": "3.5.2"
  }
 },
 "nbformat": 4,
 "nbformat_minor": 0
}
